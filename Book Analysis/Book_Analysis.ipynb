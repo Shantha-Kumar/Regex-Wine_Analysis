{
 "cells": [
  {
   "cell_type": "code",
   "execution_count": 1,
   "id": "3e4e3f79-d266-4de2-a7f7-5df917972ed8",
   "metadata": {},
   "outputs": [],
   "source": [
    "with open (\"miracle_in_the_andes.txt\", \"r\", encoding='utf=8') as file:\n",
    "           book = file.read()"
   ]
  },
  {
   "cell_type": "markdown",
   "id": "233784b1-cccd-40be-b3d7-1e6e13ab6b93",
   "metadata": {},
   "source": [
    "# Matching Patterns"
   ]
  },
  {
   "cell_type": "markdown",
   "id": "d9dbd573-eac8-451a-82b8-59fe1fdfd554",
   "metadata": {},
   "source": [
    "## With string count"
   ]
  },
  {
   "cell_type": "code",
   "execution_count": 2,
   "id": "8581cbfc-4e1d-4440-9d47-c29bcaeb6238",
   "metadata": {},
   "outputs": [
    {
     "data": {
      "text/plain": [
       "10"
      ]
     },
     "execution_count": 2,
     "metadata": {},
     "output_type": "execute_result"
    }
   ],
   "source": [
    "book.count('Chapter ')"
   ]
  },
  {
   "cell_type": "markdown",
   "id": "393e69b2-fecd-4fca-96cf-b9a37e5b8f1b",
   "metadata": {},
   "source": [
    "## Using Regex"
   ]
  },
  {
   "cell_type": "code",
   "execution_count": 3,
   "id": "d4151762-7193-4d60-b9f6-d0ed2f4cdd53",
   "metadata": {},
   "outputs": [],
   "source": [
    "import re"
   ]
  },
  {
   "cell_type": "code",
   "execution_count": 4,
   "id": "ff1f83ba-a436-4642-9532-04b6a03f54f5",
   "metadata": {},
   "outputs": [
    {
     "data": {
      "text/plain": [
       "10"
      ]
     },
     "execution_count": 4,
     "metadata": {},
     "output_type": "execute_result"
    }
   ],
   "source": [
    "pattern = re.compile('Chapter [0-9]+')\n",
    "findings = re.findall(pattern, book)\n",
    "len(findings)"
   ]
  },
  {
   "cell_type": "code",
   "execution_count": 5,
   "id": "fbf7aab8-d80e-4f29-aac1-aa745b9cae8c",
   "metadata": {},
   "outputs": [
    {
     "data": {
      "text/plain": [
       "67"
      ]
     },
     "execution_count": 5,
     "metadata": {},
     "output_type": "execute_result"
    }
   ],
   "source": [
    "pattern = re.compile(\"[A-Z]{1}[^.]*[^a-zA-Z]+love[^a-zA-Z]+[^.]*.\")\n",
    "findings = re.findall(pattern, book)\n",
    "len(findings)"
   ]
  },
  {
   "cell_type": "code",
   "execution_count": 6,
   "id": "d47e602f-f31d-4d6a-8dca-219a4437e1cd",
   "metadata": {},
   "outputs": [
    {
     "data": {
      "text/plain": [
       "86798"
      ]
     },
     "execution_count": 6,
     "metadata": {},
     "output_type": "execute_result"
    }
   ],
   "source": [
    "pattern = re.compile(\"[a-zA-Z]+\")\n",
    "findings = re.findall(pattern, book.lower())\n",
    "len(findings)"
   ]
  },
  {
   "cell_type": "code",
   "execution_count": 7,
   "id": "85e591c6-9ea4-4718-b634-d8c5af24097b",
   "metadata": {},
   "outputs": [],
   "source": [
    "d = {}\n",
    "for word in findings:\n",
    "    if word in d.keys():\n",
    "        d[word]=d[word]+1\n",
    "    else:\n",
    "        d[word]=1"
   ]
  },
  {
   "cell_type": "code",
   "execution_count": 8,
   "id": "123f98fe-aa45-436a-8baa-e0079e9f6f29",
   "metadata": {},
   "outputs": [
    {
     "data": {
      "text/plain": [
       "6992"
      ]
     },
     "execution_count": 8,
     "metadata": {},
     "output_type": "execute_result"
    }
   ],
   "source": [
    "d_list=[(value, key) for (key, value) in d.items()]\n",
    "len(sorted(d_list,reverse=True))"
   ]
  },
  {
   "cell_type": "markdown",
   "id": "8c9a50ba-f1f3-4fd7-b141-ea6533ea382f",
   "metadata": {},
   "source": [
    "## Para Extratcor"
   ]
  },
  {
   "cell_type": "code",
   "execution_count": 22,
   "id": "cb2236af-e2fe-4f00-aa2c-f39b04ffe7f5",
   "metadata": {},
   "outputs": [
    {
     "data": {
      "text/plain": [
       "60"
      ]
     },
     "execution_count": 22,
     "metadata": {},
     "output_type": "execute_result"
    }
   ],
   "source": [
    "pattern = re.compile('[^\\n]+love[^\\n]+')\n",
    "findings = re.findall(pattern, book)\n",
    "len(findings)"
   ]
  },
  {
   "cell_type": "code",
   "execution_count": 10,
   "id": "ff8fe921-bc61-4a29-9851-14f326fe065b",
   "metadata": {},
   "outputs": [
    {
     "data": {
      "text/plain": [
       "['Before\\n\\n\\n',\n",
       " 'Precious\\n\\n\\n',\n",
       " 'Promise\\n\\n\\n\\n\\n\\n',\n",
       " 'More\\n\\n\\n\\n',\n",
       " 'Abandoned\\n\\n\\n\\n',\n",
       " 'Tomb\\n\\n\\n\\n',\n",
       " 'East\\n\\n\\n\\n',\n",
       " 'Death\\n\\n\\n\\n',\n",
       " 'Man\\n\\n\\n\\n',\n",
       " 'After\\n\\n\\n\\n\\n\\n']"
      ]
     },
     "execution_count": 10,
     "metadata": {},
     "output_type": "execute_result"
    }
   ],
   "source": [
    "pattern = re.compile('[a-zA-Z]+[\\n]+')\n",
    "findings = re.findall(pattern, book)\n",
    "findings"
   ]
  },
  {
   "cell_type": "code",
   "execution_count": 25,
   "id": "08c0e37b-522a-4dda-a32a-072b06725830",
   "metadata": {},
   "outputs": [],
   "source": [
    "def occur(word):\n",
    "    pattern = re.compile(f'{word} ')\n",
    "    findings = re.findall(pattern, book.lower())\n",
    "    d = {}\n",
    "    for word in findings:\n",
    "        if word in d.keys():\n",
    "            d[word]=d[word]+1\n",
    "        else:\n",
    "            d[word]=1\n",
    "    return d[word]\n",
    "\n",
    "    \n",
    "    "
   ]
  },
  {
   "cell_type": "code",
   "execution_count": 26,
   "id": "da87bea6-5cf3-4a61-ab51-05ad3b8b304c",
   "metadata": {},
   "outputs": [
    {
     "data": {
      "text/plain": [
       "57"
      ]
     },
     "execution_count": 26,
     "metadata": {},
     "output_type": "execute_result"
    }
   ],
   "source": [
    "occur('love')"
   ]
  },
  {
   "cell_type": "code",
   "execution_count": null,
   "id": "f38ffb47-a9cd-401c-8081-3da5080000e4",
   "metadata": {},
   "outputs": [],
   "source": []
  }
 ],
 "metadata": {
  "kernelspec": {
   "display_name": "Python 3 (ipykernel)",
   "language": "python",
   "name": "python3"
  },
  "language_info": {
   "codemirror_mode": {
    "name": "ipython",
    "version": 3
   },
   "file_extension": ".py",
   "mimetype": "text/x-python",
   "name": "python",
   "nbconvert_exporter": "python",
   "pygments_lexer": "ipython3",
   "version": "3.11.6"
  }
 },
 "nbformat": 4,
 "nbformat_minor": 5
}
